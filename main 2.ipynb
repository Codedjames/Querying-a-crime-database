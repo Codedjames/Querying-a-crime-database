{
 "cells": [
  {
   "cell_type": "code",
   "execution_count": 1,
   "id": "7bfe3cfe",
   "metadata": {},
   "outputs": [
    {
     "data": {
      "text/plain": [
       "<sqlite3.Cursor at 0xce615a0>"
      ]
     },
     "execution_count": 1,
     "metadata": {},
     "output_type": "execute_result"
    }
   ],
   "source": [
    "import numpy as np\n",
    "import pandas as pd\n",
    "import sqlite3\n",
    "\n",
    "# create a new connection to a db in memory\n",
    "conn = sqlite3.connect('data/van_crime_2003.db')\n",
    "\n",
    "# create a cursor\n",
    "c = conn.cursor()\n",
    "\n",
    "# restore the given van_crime_2003.sql dump\n",
    "c.executescript(open('data/van_crime_2003.sql', 'r').read())"
   ]
  },
  {
   "cell_type": "code",
   "execution_count": 3,
   "id": "5e7b0d93",
   "metadata": {},
   "outputs": [],
   "source": [
    "\n",
    "\n",
    "van_crimes_df = pd.read_sql('''SELECT TYPE, MONTH, DAY, NEIGHBOURHOOD\n",
    "                            FROM van_crimes WHERE NEIGHBOURHOOD IN (\"Stanley Park\", \"West End\")''', conn)\n"
   ]
  },
  {
   "cell_type": "code",
   "execution_count": 4,
   "id": "698498cd",
   "metadata": {},
   "outputs": [
    {
     "data": {
      "text/html": [
       "<div>\n",
       "<style scoped>\n",
       "    .dataframe tbody tr th:only-of-type {\n",
       "        vertical-align: middle;\n",
       "    }\n",
       "\n",
       "    .dataframe tbody tr th {\n",
       "        vertical-align: top;\n",
       "    }\n",
       "\n",
       "    .dataframe thead th {\n",
       "        text-align: right;\n",
       "    }\n",
       "</style>\n",
       "<table border=\"1\" class=\"dataframe\">\n",
       "  <thead>\n",
       "    <tr style=\"text-align: right;\">\n",
       "      <th></th>\n",
       "      <th>TYPE</th>\n",
       "      <th>MONTH</th>\n",
       "      <th>DAY</th>\n",
       "      <th>NEIGHBOURHOOD</th>\n",
       "    </tr>\n",
       "  </thead>\n",
       "  <tbody>\n",
       "    <tr>\n",
       "      <th>0</th>\n",
       "      <td>Theft from Vehicle</td>\n",
       "      <td>12</td>\n",
       "      <td>30.0</td>\n",
       "      <td>Stanley Park</td>\n",
       "    </tr>\n",
       "    <tr>\n",
       "      <th>1</th>\n",
       "      <td>Theft from Vehicle</td>\n",
       "      <td>12</td>\n",
       "      <td>28.0</td>\n",
       "      <td>Stanley Park</td>\n",
       "    </tr>\n",
       "    <tr>\n",
       "      <th>2</th>\n",
       "      <td>Theft from Vehicle</td>\n",
       "      <td>12</td>\n",
       "      <td>12.0</td>\n",
       "      <td>Stanley Park</td>\n",
       "    </tr>\n",
       "    <tr>\n",
       "      <th>3</th>\n",
       "      <td>Theft from Vehicle</td>\n",
       "      <td>12</td>\n",
       "      <td>12.0</td>\n",
       "      <td>Stanley Park</td>\n",
       "    </tr>\n",
       "    <tr>\n",
       "      <th>4</th>\n",
       "      <td>Theft from Vehicle</td>\n",
       "      <td>11</td>\n",
       "      <td>5.0</td>\n",
       "      <td>Stanley Park</td>\n",
       "    </tr>\n",
       "    <tr>\n",
       "      <th>...</th>\n",
       "      <td>...</td>\n",
       "      <td>...</td>\n",
       "      <td>...</td>\n",
       "      <td>...</td>\n",
       "    </tr>\n",
       "    <tr>\n",
       "      <th>251</th>\n",
       "      <td>Break and Enter Residential/Other</td>\n",
       "      <td>1</td>\n",
       "      <td>23.0</td>\n",
       "      <td>West End</td>\n",
       "    </tr>\n",
       "    <tr>\n",
       "      <th>252</th>\n",
       "      <td>Break and Enter Residential/Other</td>\n",
       "      <td>2</td>\n",
       "      <td>2.0</td>\n",
       "      <td>West End</td>\n",
       "    </tr>\n",
       "    <tr>\n",
       "      <th>253</th>\n",
       "      <td>Break and Enter Residential/Other</td>\n",
       "      <td>2</td>\n",
       "      <td>12.0</td>\n",
       "      <td>West End</td>\n",
       "    </tr>\n",
       "    <tr>\n",
       "      <th>254</th>\n",
       "      <td>Break and Enter Residential/Other</td>\n",
       "      <td>2</td>\n",
       "      <td>15.0</td>\n",
       "      <td>West End</td>\n",
       "    </tr>\n",
       "    <tr>\n",
       "      <th>255</th>\n",
       "      <td>Break and Enter Residential/Other</td>\n",
       "      <td>6</td>\n",
       "      <td>11.0</td>\n",
       "      <td>West End</td>\n",
       "    </tr>\n",
       "  </tbody>\n",
       "</table>\n",
       "<p>256 rows × 4 columns</p>\n",
       "</div>"
      ],
      "text/plain": [
       "                                  TYPE  MONTH   DAY NEIGHBOURHOOD\n",
       "0                   Theft from Vehicle     12  30.0  Stanley Park\n",
       "1                   Theft from Vehicle     12  28.0  Stanley Park\n",
       "2                   Theft from Vehicle     12  12.0  Stanley Park\n",
       "3                   Theft from Vehicle     12  12.0  Stanley Park\n",
       "4                   Theft from Vehicle     11   5.0  Stanley Park\n",
       "..                                 ...    ...   ...           ...\n",
       "251  Break and Enter Residential/Other      1  23.0      West End\n",
       "252  Break and Enter Residential/Other      2   2.0      West End\n",
       "253  Break and Enter Residential/Other      2  12.0      West End\n",
       "254  Break and Enter Residential/Other      2  15.0      West End\n",
       "255  Break and Enter Residential/Other      6  11.0      West End\n",
       "\n",
       "[256 rows x 4 columns]"
      ]
     },
     "execution_count": 4,
     "metadata": {},
     "output_type": "execute_result"
    }
   ],
   "source": [
    "van_crimes_df"
   ]
  },
  {
   "cell_type": "code",
   "execution_count": 5,
   "id": "a053c25a",
   "metadata": {},
   "outputs": [],
   "source": [
    "crime_types_count = van_crimes_df['TYPE'].value_counts()"
   ]
  },
  {
   "cell_type": "code",
   "execution_count": 6,
   "id": "f22bcf6f",
   "metadata": {},
   "outputs": [
    {
     "data": {
      "text/plain": [
       "Theft from Vehicle                   124\n",
       "Break and Enter Residential/Other     60\n",
       "Theft of Vehicle                      44\n",
       "Mischief                              28\n",
       "Name: TYPE, dtype: int64"
      ]
     },
     "execution_count": 6,
     "metadata": {},
     "output_type": "execute_result"
    }
   ],
   "source": [
    "crime_types_count"
   ]
  },
  {
   "cell_type": "code",
   "execution_count": null,
   "id": "056e2136",
   "metadata": {},
   "outputs": [],
   "source": []
  }
 ],
 "metadata": {
  "kernelspec": {
   "display_name": "Python 3 (ipykernel)",
   "language": "python",
   "name": "python3"
  },
  "language_info": {
   "codemirror_mode": {
    "name": "ipython",
    "version": 3
   },
   "file_extension": ".py",
   "mimetype": "text/x-python",
   "name": "python",
   "nbconvert_exporter": "python",
   "pygments_lexer": "ipython3",
   "version": "3.9.7"
  }
 },
 "nbformat": 4,
 "nbformat_minor": 5
}
